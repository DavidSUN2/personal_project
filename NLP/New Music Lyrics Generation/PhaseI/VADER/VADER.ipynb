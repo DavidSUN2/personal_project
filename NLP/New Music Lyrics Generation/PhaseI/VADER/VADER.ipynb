{
 "cells": [
  {
   "cell_type": "code",
   "execution_count": 1,
   "metadata": {},
   "outputs": [],
   "source": [
    "from vaderSentiment.vaderSentiment import SentimentIntensityAnalyzer\n",
    "import pandas as pd"
   ]
  },
  {
   "cell_type": "code",
   "execution_count": 4,
   "metadata": {},
   "outputs": [
    {
     "data": {
      "text/html": [
       "<div>\n",
       "<style scoped>\n",
       "    .dataframe tbody tr th:only-of-type {\n",
       "        vertical-align: middle;\n",
       "    }\n",
       "\n",
       "    .dataframe tbody tr th {\n",
       "        vertical-align: top;\n",
       "    }\n",
       "\n",
       "    .dataframe thead th {\n",
       "        text-align: right;\n",
       "    }\n",
       "</style>\n",
       "<table border=\"1\" class=\"dataframe\">\n",
       "  <thead>\n",
       "    <tr style=\"text-align: right;\">\n",
       "      <th></th>\n",
       "      <th>album_artist</th>\n",
       "      <th>album_mood</th>\n",
       "      <th>album_title</th>\n",
       "      <th>allmusic_href</th>\n",
       "      <th>lyrics</th>\n",
       "      <th>lyrics(normalized_no_stopwords)</th>\n",
       "      <th>lyrics(normalized_with_stopwords)</th>\n",
       "      <th>lyrics_href</th>\n",
       "      <th>track_genres</th>\n",
       "      <th>track_length</th>\n",
       "      <th>track_moods</th>\n",
       "      <th>track_title</th>\n",
       "      <th>track_url</th>\n",
       "    </tr>\n",
       "  </thead>\n",
       "  <tbody>\n",
       "    <tr>\n",
       "      <th>0</th>\n",
       "      <td>Primal Scream</td>\n",
       "      <td>ambitious</td>\n",
       "      <td>Screamadelica</td>\n",
       "      <td>/album/screamadelica-mw0000270548</td>\n",
       "      <td>I was blind, now I can see\\r\\r\\r\\r\\nYou made a...</td>\n",
       "      <td>blind see make believer blind see make believe...</td>\n",
       "      <td>i be blind now i can see you make a believer o...</td>\n",
       "      <td>/lyric/7390644/Primal+Scream/Movin%27+on+Up+%5...</td>\n",
       "      <td>['Electronic', 'Pop/Rock']</td>\n",
       "      <td>3:51</td>\n",
       "      <td>['carefree', 'earnest', 'exuberant', 'stylish'...</td>\n",
       "      <td>Movin' on Up</td>\n",
       "      <td>https://www.allmusic.com/song/movin-on-up-mt00...</td>\n",
       "    </tr>\n",
       "    <tr>\n",
       "      <th>1</th>\n",
       "      <td>Primal Scream</td>\n",
       "      <td>ambitious</td>\n",
       "      <td>Screamadelica</td>\n",
       "      <td>/album/screamadelica-mw0000270548</td>\n",
       "      <td>Gonna dance to the music all night long\\r\\r\\r\\...</td>\n",
       "      <td>go dance music night long gettin high gettin h...</td>\n",
       "      <td>go to dance to the music all night long gettin...</td>\n",
       "      <td>/lyric/999573/Primal+Scream/Don%27t+Fight+It%2...</td>\n",
       "      <td>['Electronic', 'Pop/Rock']</td>\n",
       "      <td>6:53</td>\n",
       "      <td>['carefree', 'earnest', 'exuberant', 'stylish'...</td>\n",
       "      <td>Don't Fight It, Feel It</td>\n",
       "      <td>https://www.allmusic.com/song/dont-fight-it-fe...</td>\n",
       "    </tr>\n",
       "    <tr>\n",
       "      <th>2</th>\n",
       "      <td>Primal Scream</td>\n",
       "      <td>ambitious</td>\n",
       "      <td>Screamadelica</td>\n",
       "      <td>/album/screamadelica-mw0000270548</td>\n",
       "      <td>My brightest star's my inner light\\r\\r\\r\\r\\nLe...</td>\n",
       "      <td>bright star inner light let guide experience i...</td>\n",
       "      <td>my bright star my inner light let it guide me ...</td>\n",
       "      <td>/lyric/999574/Primal+Scream/Higher+Than+the+Sun</td>\n",
       "      <td>['Electronic', 'Pop/Rock']</td>\n",
       "      <td>3:38</td>\n",
       "      <td>['ambitious', 'lush', 'trippy', 'carefree', 'e...</td>\n",
       "      <td>Higher Than the Sun</td>\n",
       "      <td>https://www.allmusic.com/song/higher-than-the-...</td>\n",
       "    </tr>\n",
       "    <tr>\n",
       "      <th>3</th>\n",
       "      <td>Primal Scream</td>\n",
       "      <td>ambitious</td>\n",
       "      <td>Screamadelica</td>\n",
       "      <td>/album/screamadelica-mw0000270548</td>\n",
       "      <td>Come together oh oh\\r\\r\\r\\r\\nCome together oh ...</td>\n",
       "      <td>come together oh oh come together oh oh come t...</td>\n",
       "      <td>come together oh oh come together oh oh come t...</td>\n",
       "      <td>/lyric/4633273/Primal+Scream/Come+Together+%5B...</td>\n",
       "      <td>['Electronic', 'Pop/Rock']</td>\n",
       "      <td>10:21</td>\n",
       "      <td>['ambitious', 'carefree', 'earnest', 'exuberan...</td>\n",
       "      <td>Come Together</td>\n",
       "      <td>https://www.allmusic.com/song/come-together-mt...</td>\n",
       "    </tr>\n",
       "    <tr>\n",
       "      <th>4</th>\n",
       "      <td>Primal Scream</td>\n",
       "      <td>ambitious</td>\n",
       "      <td>Screamadelica</td>\n",
       "      <td>/album/screamadelica-mw0000270548</td>\n",
       "      <td>Just what is it that you want to do?\\r\\r\\r\\r\\n...</td>\n",
       "      <td>want well wanna free wanna free wanna wanna ge...</td>\n",
       "      <td>just what be it that you want to do well we wa...</td>\n",
       "      <td>/lyric/999577/Primal+Scream/Loaded</td>\n",
       "      <td>['Electronic', 'Pop/Rock']</td>\n",
       "      <td>7:02</td>\n",
       "      <td>['celebratory', 'trippy', 'carefree', 'earnest...</td>\n",
       "      <td>Loaded</td>\n",
       "      <td>https://www.allmusic.com/song/loaded-mt0012027546</td>\n",
       "    </tr>\n",
       "  </tbody>\n",
       "</table>\n",
       "</div>"
      ],
      "text/plain": [
       "    album_artist album_mood    album_title                      allmusic_href  \\\n",
       "0  Primal Scream  ambitious  Screamadelica  /album/screamadelica-mw0000270548   \n",
       "1  Primal Scream  ambitious  Screamadelica  /album/screamadelica-mw0000270548   \n",
       "2  Primal Scream  ambitious  Screamadelica  /album/screamadelica-mw0000270548   \n",
       "3  Primal Scream  ambitious  Screamadelica  /album/screamadelica-mw0000270548   \n",
       "4  Primal Scream  ambitious  Screamadelica  /album/screamadelica-mw0000270548   \n",
       "\n",
       "                                              lyrics  \\\n",
       "0  I was blind, now I can see\\r\\r\\r\\r\\nYou made a...   \n",
       "1  Gonna dance to the music all night long\\r\\r\\r\\...   \n",
       "2  My brightest star's my inner light\\r\\r\\r\\r\\nLe...   \n",
       "3  Come together oh oh\\r\\r\\r\\r\\nCome together oh ...   \n",
       "4  Just what is it that you want to do?\\r\\r\\r\\r\\n...   \n",
       "\n",
       "                     lyrics(normalized_no_stopwords)  \\\n",
       "0  blind see make believer blind see make believe...   \n",
       "1  go dance music night long gettin high gettin h...   \n",
       "2  bright star inner light let guide experience i...   \n",
       "3  come together oh oh come together oh oh come t...   \n",
       "4  want well wanna free wanna free wanna wanna ge...   \n",
       "\n",
       "                   lyrics(normalized_with_stopwords)  \\\n",
       "0  i be blind now i can see you make a believer o...   \n",
       "1  go to dance to the music all night long gettin...   \n",
       "2  my bright star my inner light let it guide me ...   \n",
       "3  come together oh oh come together oh oh come t...   \n",
       "4  just what be it that you want to do well we wa...   \n",
       "\n",
       "                                         lyrics_href  \\\n",
       "0  /lyric/7390644/Primal+Scream/Movin%27+on+Up+%5...   \n",
       "1  /lyric/999573/Primal+Scream/Don%27t+Fight+It%2...   \n",
       "2    /lyric/999574/Primal+Scream/Higher+Than+the+Sun   \n",
       "3  /lyric/4633273/Primal+Scream/Come+Together+%5B...   \n",
       "4                 /lyric/999577/Primal+Scream/Loaded   \n",
       "\n",
       "                 track_genres track_length  \\\n",
       "0  ['Electronic', 'Pop/Rock']         3:51   \n",
       "1  ['Electronic', 'Pop/Rock']         6:53   \n",
       "2  ['Electronic', 'Pop/Rock']         3:38   \n",
       "3  ['Electronic', 'Pop/Rock']        10:21   \n",
       "4  ['Electronic', 'Pop/Rock']         7:02   \n",
       "\n",
       "                                         track_moods              track_title  \\\n",
       "0  ['carefree', 'earnest', 'exuberant', 'stylish'...             Movin' on Up   \n",
       "1  ['carefree', 'earnest', 'exuberant', 'stylish'...  Don't Fight It, Feel It   \n",
       "2  ['ambitious', 'lush', 'trippy', 'carefree', 'e...      Higher Than the Sun   \n",
       "3  ['ambitious', 'carefree', 'earnest', 'exuberan...            Come Together   \n",
       "4  ['celebratory', 'trippy', 'carefree', 'earnest...                   Loaded   \n",
       "\n",
       "                                           track_url  \n",
       "0  https://www.allmusic.com/song/movin-on-up-mt00...  \n",
       "1  https://www.allmusic.com/song/dont-fight-it-fe...  \n",
       "2  https://www.allmusic.com/song/higher-than-the-...  \n",
       "3  https://www.allmusic.com/song/come-together-mt...  \n",
       "4  https://www.allmusic.com/song/loaded-mt0012027546  "
      ]
     },
     "execution_count": 4,
     "metadata": {},
     "output_type": "execute_result"
    }
   ],
   "source": [
    "df = pd.read_csv('songs_all.csv',encoding='latin1')\n",
    "df = df.drop(['Unnamed: 0'], axis = 1)\n",
    "df.head()"
   ]
  },
  {
   "cell_type": "code",
   "execution_count": 13,
   "metadata": {},
   "outputs": [
    {
     "data": {
      "text/html": [
       "<div>\n",
       "<style scoped>\n",
       "    .dataframe tbody tr th:only-of-type {\n",
       "        vertical-align: middle;\n",
       "    }\n",
       "\n",
       "    .dataframe tbody tr th {\n",
       "        vertical-align: top;\n",
       "    }\n",
       "\n",
       "    .dataframe thead th {\n",
       "        text-align: right;\n",
       "    }\n",
       "</style>\n",
       "<table border=\"1\" class=\"dataframe\">\n",
       "  <thead>\n",
       "    <tr style=\"text-align: right;\">\n",
       "      <th></th>\n",
       "      <th>title</th>\n",
       "      <th>neg_score</th>\n",
       "      <th>pos_score</th>\n",
       "      <th>neu_score</th>\n",
       "      <th>compound_score</th>\n",
       "      <th>sentiment_label</th>\n",
       "    </tr>\n",
       "  </thead>\n",
       "  <tbody>\n",
       "    <tr>\n",
       "      <th>0</th>\n",
       "      <td>Movin' on Up</td>\n",
       "      <td>0.345</td>\n",
       "      <td>0</td>\n",
       "      <td>0</td>\n",
       "      <td>-0.9864</td>\n",
       "      <td>0</td>\n",
       "    </tr>\n",
       "    <tr>\n",
       "      <th>1</th>\n",
       "      <td>Don't Fight It, Feel It</td>\n",
       "      <td>0.192</td>\n",
       "      <td>0.09</td>\n",
       "      <td>0.09</td>\n",
       "      <td>-0.836</td>\n",
       "      <td>0</td>\n",
       "    </tr>\n",
       "    <tr>\n",
       "      <th>2</th>\n",
       "      <td>Higher Than the Sun</td>\n",
       "      <td>0.029</td>\n",
       "      <td>0.233</td>\n",
       "      <td>0.233</td>\n",
       "      <td>0.9552</td>\n",
       "      <td>1</td>\n",
       "    </tr>\n",
       "    <tr>\n",
       "      <th>3</th>\n",
       "      <td>Come Together</td>\n",
       "      <td>0</td>\n",
       "      <td>0.344</td>\n",
       "      <td>0.344</td>\n",
       "      <td>0.9894</td>\n",
       "      <td>1</td>\n",
       "    </tr>\n",
       "    <tr>\n",
       "      <th>4</th>\n",
       "      <td>Loaded</td>\n",
       "      <td>0.263</td>\n",
       "      <td>0.361</td>\n",
       "      <td>0.361</td>\n",
       "      <td>0.8458</td>\n",
       "      <td>1</td>\n",
       "    </tr>\n",
       "  </tbody>\n",
       "</table>\n",
       "</div>"
      ],
      "text/plain": [
       "                     title neg_score pos_score neu_score compound_score  \\\n",
       "0             Movin' on Up     0.345         0         0        -0.9864   \n",
       "1  Don't Fight It, Feel It     0.192      0.09      0.09         -0.836   \n",
       "2      Higher Than the Sun     0.029     0.233     0.233         0.9552   \n",
       "3            Come Together         0     0.344     0.344         0.9894   \n",
       "4                   Loaded     0.263     0.361     0.361         0.8458   \n",
       "\n",
       "  sentiment_label  \n",
       "0               0  \n",
       "1               0  \n",
       "2               1  \n",
       "3               1  \n",
       "4               1  "
      ]
     },
     "execution_count": 13,
     "metadata": {},
     "output_type": "execute_result"
    }
   ],
   "source": [
    "l_neg = []\n",
    "l_pos = []\n",
    "l_neu = []\n",
    "l_compound = []\n",
    "l_label = []\n",
    "\n",
    "analyzer = SentimentIntensityAnalyzer()\n",
    "norm_lyrics = df['lyrics(normalized_no_stopwords)']\n",
    "\n",
    "for lyrics in norm_lyrics:\n",
    "    vs = analyzer.polarity_scores(lyrics)\n",
    "    l_neg.append(vs['neg'])\n",
    "    l_pos.append(vs['pos'])\n",
    "    l_neu.append(vs['pos'])\n",
    "    l_compound.append(vs['compound'])\n",
    "    if (vs['compound'] > 0):\n",
    "        l_label.append(1)\n",
    "    else:\n",
    "        l_label.append(0)\n",
    "        \n",
    "titles = df['track_title'].tolist()\n",
    "score_df = pd.DataFrame([titles, l_neg, l_pos, l_neu, l_compound, l_label],\n",
    "                        index = (['title', 'neg_score', 'pos_score', 'neu_score', 'compound_score', 'sentiment_label'])).T\n",
    "\n",
    "score_df.head()"
   ]
  },
  {
   "cell_type": "code",
   "execution_count": 14,
   "metadata": {},
   "outputs": [],
   "source": [
    "df.insert(loc=df.columns.get_loc(\"lyrics(normalized_with_stopwords)\")+1, column='positive_score', value=l_pos)\n",
    "df.insert(loc=df.columns.get_loc(\"lyrics(normalized_with_stopwords)\")+2, column='negative_score', value=l_neg)\n",
    "df.insert(loc=df.columns.get_loc(\"lyrics(normalized_with_stopwords)\")+3, column='neutral_score', value=l_neu)\n",
    "df.insert(loc=df.columns.get_loc(\"lyrics(normalized_with_stopwords)\")+4, column='compound_score', value=l_compound)\n",
    "df.insert(loc=df.columns.get_loc(\"lyrics(normalized_with_stopwords)\")+5, column='sentiment_label', value=l_label)\n",
    "df.to_csv('songs_all_labeled.csv')"
   ]
  },
  {
   "cell_type": "code",
   "execution_count": 24,
   "metadata": {},
   "outputs": [],
   "source": [
    "import pandas as pd\n",
    "songs = pd.read_csv('songs_all_labeled.csv')\n",
    "songs = songs[['lyrics(normalized_with_stopwords)','sentiment_label']]\n",
    "lyrics_positive = songs['lyrics(normalized_with_stopwords)'][songs['sentiment_label']==1]\n",
    "corpus_positive = ' '.join(lyrics_positive)\n",
    "lyrics_negative = songs['lyrics(normalized_with_stopwords)'][songs['sentiment_label']==0]\n",
    "corpus_negative = ' '.join(lyrics_negative)\n",
    "with open('corpus_positive.txt', 'w') as f:\n",
    "    f.write(corpus_positive)\n",
    "with open('corpus_negative.txt', 'w') as f:\n",
    "    f.write(corpus_negative)\n",
    "\n"
   ]
  },
  {
   "cell_type": "code",
   "execution_count": 20,
   "metadata": {},
   "outputs": [
    {
     "data": {
      "text/plain": [
       "(704,)"
      ]
     },
     "execution_count": 20,
     "metadata": {},
     "output_type": "execute_result"
    }
   ],
   "source": [
    "lyrics_positive.shape"
   ]
  },
  {
   "cell_type": "code",
   "execution_count": 21,
   "metadata": {},
   "outputs": [
    {
     "data": {
      "text/plain": [
       "(396,)"
      ]
     },
     "execution_count": 21,
     "metadata": {},
     "output_type": "execute_result"
    }
   ],
   "source": [
    "lyrics_negative.shape"
   ]
  },
  {
   "cell_type": "code",
   "execution_count": 22,
   "metadata": {},
   "outputs": [
    {
     "data": {
      "text/plain": [
       "353158"
      ]
     },
     "execution_count": 22,
     "metadata": {},
     "output_type": "execute_result"
    }
   ],
   "source": [
    "len(corpus_negative)"
   ]
  },
  {
   "cell_type": "code",
   "execution_count": 23,
   "metadata": {},
   "outputs": [
    {
     "data": {
      "text/plain": [
       "666214"
      ]
     },
     "execution_count": 23,
     "metadata": {},
     "output_type": "execute_result"
    }
   ],
   "source": [
    "len(corpus_positive)"
   ]
  },
  {
   "cell_type": "code",
   "execution_count": null,
   "metadata": {},
   "outputs": [],
   "source": []
  }
 ],
 "metadata": {
  "kernelspec": {
   "display_name": "Python 3",
   "language": "python",
   "name": "python3"
  },
  "language_info": {
   "codemirror_mode": {
    "name": "ipython",
    "version": 3
   },
   "file_extension": ".py",
   "mimetype": "text/x-python",
   "name": "python",
   "nbconvert_exporter": "python",
   "pygments_lexer": "ipython3",
   "version": "3.6.5"
  }
 },
 "nbformat": 4,
 "nbformat_minor": 2
}
